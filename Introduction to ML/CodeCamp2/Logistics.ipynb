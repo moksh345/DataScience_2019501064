{
 "cells": [
  {
   "cell_type": "code",
   "execution_count": 1,
   "metadata": {},
   "outputs": [],
   "source": [
    "import pandas as pd\n",
    "import numpy as np\n",
    "from matplotlib import pyplot as plt\n",
    "from sklearn.preprocessing import OneHotEncoder\n",
    "from sklearn.model_selection import train_test_split\n",
    "from sklearn import preprocessing\n",
    "from sklearn.impute import KNNImputer\n",
    "from sklearn.decomposition import PCA\n",
    "from sklearn.linear_model import LogisticRegression\n",
    "from sklearn import svm\n",
    "from sklearn.svm import SVC\n",
    "from sklearn.metrics import classification_report\n",
    "from sklearn.metrics import roc_auc_score\n",
    "from sklearn.metrics import roc_curve\n",
    "from sklearn.metrics import auc\n",
    "from sklearn.neural_network import MLPClassifier"
   ]
  },
  {
   "cell_type": "code",
   "execution_count": 2,
   "metadata": {
    "scrolled": true
   },
   "outputs": [
    {
     "data": {
      "image/png": "[encoded data removed]",
      "text/plain": [
       "<Figure size 432x288 with 1 Axes>"
      ]
     },
     "metadata": {
      "needs_background": "light"
     },
     "output_type": "display_data"
    }
   ],
   "source": [
    "#read train and test datasets into pandas DataFrames trainx_df, trainy_df,testx_df\n",
    "\n",
    "trainpath = \"\\\\Users\\\\Reetika Siddantam\\\\Desktop\\\\Data-Science_2019501086\\\\Introduction to ML\\\\CodeCamp2\\\\marketing_training.csv\"\n",
    "testpath = \"\\\\Users\\\\Reetika Siddantam\\\\Desktop\\\\Data-Science_2019501086\\\\Introduction to ML\\\\CodeCamp2\\\\marketing_test.csv\"\n",
    "trainx_df=pd.read_csv(trainpath)\n",
    "trainy_df=trainx_df['responded']\n",
    "trainy_df.hist()\n",
    "trainx_df.drop('responded',axis=1,inplace=True)\n",
    "testx_df=pd.read_csv(testpath)"
   ]
  },
  {
   "cell_type": "code",
   "execution_count": 3,
   "metadata": {},
   "outputs": [],
   "source": [
    "# As a first step of pre-processing remove columns with null value ratio greater than provided limit\n",
    "\n",
    "sample_size=len(trainx_df)\n",
    "columns_with_null_values=[[col,float(trainx_df[col].isnull().sum())/float(sample_size)] for col in trainx_df.columns if trainx_df[col].isnull().sum()]\n",
    "columns_to_drop=[x for (x,y) in columns_with_null_values if y>0.3]\n",
    "trainx_df.drop(columns_to_drop,axis=1,inplace=True)\n",
    "testx_df.drop(columns_to_drop,axis=1,inplace=True)"
   ]
  },
  {
   "cell_type": "code",
   "execution_count": 4,
   "metadata": {},
   "outputs": [],
   "source": [
    "# As a second pre-processing step find all categorical columns and one hot  encode them. Before one hot encode fill all null values with dummy in those columns.  Some categorical columns in trainx_df may not have null values in trainx_df but have null values in testx_df. To overcome this problem we will add a row to the trainx_df with all dummy values for categorical values. Once one hot encoding is complete drop the added dummy column\n",
    "categorical_columns=[col for col in trainx_df.columns if trainx_df[col].dtype==object]\n",
    "ordinal_columns=[col for col in trainx_df.columns if col not in categorical_columns]\n",
    "dummy_row=list()\n",
    "for col in trainx_df.columns:\n",
    "    if col in categorical_columns:\n",
    "        dummy_row.append(\"dummy\")\n",
    "    else:\n",
    "        dummy_row.append(\"\")\n",
    "new_row=pd.DataFrame([dummy_row],columns=trainx_df.columns)\n",
    "trainx_df=pd.concat([trainx_df,new_row],axis=0, ignore_index=True)\n",
    "testx_df=pd.concat([testx_df],axis=0,ignore_index=True)\n",
    "for col in categorical_columns:\n",
    "    trainx_df[col].fillna(value=\"dummy\",inplace=True)\n",
    "    testx_df[col].fillna(value=\"dummy\",inplace=True)\n",
    "enc = OneHotEncoder(drop='first',sparse=False)\n",
    "enc.fit(trainx_df[categorical_columns])\n",
    "trainx_enc=pd.DataFrame(enc.transform(trainx_df[categorical_columns]))\n",
    "testx_enc=pd.DataFrame(enc.transform(testx_df[categorical_columns]))\n",
    "trainx_enc.columns=enc.get_feature_names(categorical_columns)\n",
    "testx_enc.columns=enc.get_feature_names(categorical_columns)\n",
    "trainx_df=pd.concat([trainx_df[ordinal_columns],trainx_enc],axis=1,ignore_index=True)\n",
    "testx_df=pd.concat([testx_df[ordinal_columns],testx_enc],axis=1,ignore_index=True)\n",
    "trainx_df.drop(trainx_df.tail(1).index,inplace=True)"
   ]
  },
  {
   "cell_type": "code",
   "execution_count": 5,
   "metadata": {},
   "outputs": [],
   "source": [
    "# As a third step of pre-processing fill all missing values for ordinal features\n",
    "\n",
    "imputer = KNNImputer(n_neighbors=2)\n",
    "imputer.fit(trainx_df)\n",
    "trainx_df_filled = imputer.transform(trainx_df)\n",
    "trainx_df_filled=pd.DataFrame(trainx_df_filled,columns=trainx_df.columns)\n",
    "testx_df_filled = imputer.transform(testx_df)\n",
    "testx_df_filled=pd.DataFrame(testx_df_filled,columns=testx_df.columns)\n",
    "testx_df_filled.reset_index(drop=True,inplace=True)"
   ]
  },
  {
   "cell_type": "code",
   "execution_count": 6,
   "metadata": {},
   "outputs": [],
   "source": [
    "#Standared Scaling\n",
    "scaler = preprocessing.StandardScaler().fit(trainx_df)\n",
    "trainx_df=scaler.transform(trainx_df_filled)\n",
    "testx_df=scaler.transform(testx_df_filled)"
   ]
  },
  {
   "cell_type": "code",
   "execution_count": 7,
   "metadata": {},
   "outputs": [
    {
     "data": {
      "text/plain": [
       "array([0, 0, 0, ..., 0, 0, 0])"
      ]
     },
     "execution_count": 7,
     "metadata": {},
     "output_type": "execute_result"
    }
   ],
   "source": [
    "le = preprocessing.LabelEncoder()\n",
    "trainy_df=le.fit_transform(trainy_df)\n",
    "trainy_df"
   ]
  },
  {
   "cell_type": "code",
   "execution_count": 8,
   "metadata": {},
   "outputs": [
    {
     "name": "stdout",
     "output_type": "stream",
     "text": [
      "np.cumsum(pca.explained_variance_ratio_) [0.10573054 0.15421457 0.1964839  0.23485664 0.27172348 0.30474827\n",
      " 0.33574351 0.36511913 0.39299644 0.42004003 0.44588451 0.47077443\n",
      " 0.49422077 0.51653999 0.53826713 0.5589633  0.57945235 0.59975684\n",
      " 0.61991183 0.63993628 0.65948508 0.67772172 0.69590357 0.71360521\n",
      " 0.73122755 0.74867707 0.76593274 0.78265413 0.79929006 0.81577266\n",
      " 0.832035   0.84774842 0.8631978  0.87863195 0.89351909 0.90778753\n",
      " 0.92093481 0.93390202 0.94649881 0.95718095 0.96508696 0.9715728\n",
      " 0.9778881  0.98210357 0.98621132 0.98965611 0.99293736 0.9948809\n",
      " 0.99665652 0.99788647 0.99891068 0.9998973  0.99996468 0.99999991\n",
      " 1.         1.         1.         1.         1.         1.\n",
      " 1.         1.         1.         1.        ]\n"
     ]
    },
    {
     "data": {
      "image/png": "[encoded data removed]",
      "text/plain": [
       "<Figure size 432x288 with 1 Axes>"
      ]
     },
     "metadata": {
      "needs_background": "light"
     },
     "output_type": "display_data"
    }
   ],
   "source": [
    "pca = PCA().fit(trainx_df)\n",
    "itemindex = np.where(np.cumsum(pca.explained_variance_ratio_)>0.9999)\n",
    "print('np.cumsum(pca.explained_variance_ratio_)',      np.cumsum(pca.explained_variance_ratio_))\n",
    "#Plotting the Cumulative Summation of the Explained Variance\n",
    "plt.figure(np.cumsum(pca.explained_variance_ratio_)[0])\n",
    "plt.plot(np.cumsum(pca.explained_variance_ratio_))\n",
    "plt.xlabel('Number of Components')\n",
    "plt.ylabel('Variance (%)') #for each component\n",
    "plt.title('Principal Components Explained Variance')\n",
    "plt.show()\n",
    "pca_std = PCA(n_components=itemindex[0][0]).fit(trainx_df)\n",
    "trainx_df = pca_std.transform(trainx_df)\n",
    "testx_df = pca_std.transform(testx_df)"
   ]
  },
  {
   "cell_type": "code",
   "execution_count": 9,
   "metadata": {},
   "outputs": [],
   "source": [
    " X_train, X_test, y_train, y_test = train_test_split(trainx_df, trainy_df, test_size=0.3, random_state=42)"
   ]
  },
  {
   "cell_type": "code",
   "execution_count": 10,
   "metadata": {},
   "outputs": [
    {
     "data": {
      "text/plain": [
       "LogisticRegression(C=1e-05, class_weight='balanced', max_iter=1000000)"
      ]
     },
     "execution_count": 10,
     "metadata": {},
     "output_type": "execute_result"
    }
   ],
   "source": [
    "logreg=LogisticRegression(class_weight=\"balanced\",C=0.00001,max_iter=1000000)\n",
    "logreg.fit(X_train, y_train)"
   ]
  },
  {
   "cell_type": "code",
   "execution_count": 11,
   "metadata": {},
   "outputs": [
    {
     "data": {
      "text/plain": [
       "SVC()"
      ]
     },
     "execution_count": 11,
     "metadata": {},
     "output_type": "execute_result"
    }
   ],
   "source": [
    "svcmodel=SVC(C= 1.0,degree=3,kernel='rbf')\n",
    "svcmodel.fit(X_train, y_train)"
   ]
  },
  {
   "cell_type": "code",
   "execution_count": 12,
   "metadata": {},
   "outputs": [
    {
     "name": "stderr",
     "output_type": "stream",
     "text": [
      "C:\\Users\\Reetika Siddantam\\anaconda3\\lib\\site-packages\\sklearn\\neural_network\\_multilayer_perceptron.py:471: ConvergenceWarning: lbfgs failed to converge (status=1):\n",
      "STOP: TOTAL NO. of ITERATIONS REACHED LIMIT.\n",
      "\n",
      "Increase the number of iterations (max_iter) or scale the data as shown in:\n",
      "    https://scikit-learn.org/stable/modules/preprocessing.html\n",
      "  self.n_iter_ = _check_optimize_result(\"lbfgs\", opt_res, self.max_iter)\n"
     ]
    },
    {
     "data": {
      "text/plain": [
       "MLPClassifier(alpha=1e-05, hidden_layer_sizes=(5,), max_iter=1000,\n",
       "              random_state=1, solver='lbfgs')"
      ]
     },
     "execution_count": 12,
     "metadata": {},
     "output_type": "execute_result"
    }
   ],
   "source": [
    "nn_bp_model = MLPClassifier(solver='lbfgs', alpha=1e-5, hidden_layer_sizes=(5,), random_state=1,max_iter=1000)\n",
    "nn_bp_model.fit(X_train, y_train)"
   ]
  },
  {
   "cell_type": "code",
   "execution_count": 13,
   "metadata": {},
   "outputs": [
    {
     "name": "stdout",
     "output_type": "stream",
     "text": [
      "0.7388725331431296\n",
      "              precision    recall  f1-score   support\n",
      "\n",
      "           0       0.89      0.98      0.93      1942\n",
      "           1       0.57      0.17      0.26       283\n",
      "\n",
      "    accuracy                           0.88      2225\n",
      "   macro avg       0.73      0.58      0.60      2225\n",
      "weighted avg       0.85      0.88      0.85      2225\n",
      "\n",
      "0.5714285714285714 0.1696113074204947\n"
     ]
    },
    {
     "data": {
      "image/png": "[encoded data removed]",
      "text/plain": [
       "<Figure size 432x288 with 1 Axes>"
      ]
     },
     "metadata": {
      "needs_background": "light"
     },
     "output_type": "display_data"
    }
   ],
   "source": [
    "model = nn_bp_model\n",
    "yprobs= model.predict_log_proba(X_test)\n",
    "yprobs=yprobs[:,1]\n",
    "ras=roc_auc_score(y_test,yprobs,average = 'weighted')\n",
    "print(ras)\n",
    "yhat = model.predict(X_test)\n",
    "\n",
    "#pd.DataFrame(yhat).to_csv(model)\n",
    "TP, TN, FP, FN =0,0,0,0\n",
    "for i in range(len(yhat)):\n",
    "    if yhat[i]==0:\n",
    "        if y_test[i]==0:\n",
    "            TN+=1\n",
    "        else:\n",
    "            FN+=1\n",
    "    else:\n",
    "        if y_test[i]==1:\n",
    "            TP+=1\n",
    "        else:\n",
    "            FP+=1\n",
    "print(classification_report(y_test,yhat))\n",
    "print(classification_report(y_test,yhat,output_dict=True)['1']['precision'], classification_report(y_test,yhat,output_dict=True)['1']['recall'])\n",
    "fpr, tpr, threshold = roc_curve(y_test, yprobs)\n",
    "roc_auc = auc(fpr, tpr)\n",
    "\n",
    "plt.title('Receiver Operating Characteristic')\n",
    "plt.plot(fpr, tpr, 'b', label = 'AUC = %0.2f' % roc_auc)\n",
    "plt.legend(loc = 'lower right')\n",
    "plt.plot([0, 1], [0, 1],'r--')\n",
    "plt.xlim([0, 1])\n",
    "plt.ylim([0, 1])\n",
    "plt.ylabel('True Positive Rate')\n",
    "plt.xlabel('False Positive Rate')\n",
    "plt.show()"
   ]
  },
  {
   "cell_type": "code",
   "execution_count": null,
   "metadata": {},
   "outputs": [],
   "source": []
  }
 ],
 "metadata": {
  "kernelspec": {
   "display_name": "Python 3",
   "language": "python",
   "name": "python3"
  },
  "language_info": {
   "codemirror_mode": {
    "name": "ipython",
    "version": 3
   },
   "file_extension": ".py",
   "mimetype": "text/x-python",
   "name": "python",
   "nbconvert_exporter": "python",
   "pygments_lexer": "ipython3",
   "version": "3.8.3"
  }
 },
 "nbformat": 4,
 "nbformat_minor": 4
}
